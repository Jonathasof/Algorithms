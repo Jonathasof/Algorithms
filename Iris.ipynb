{
 "cells": [
  {
   "cell_type": "code",
   "execution_count": 1,
   "metadata": {
    "collapsed": true
   },
   "outputs": [],
   "source": [
    "import os\n",
    "import tarfile\n",
    "import urllib\n",
    "import seaborn as sns"
   ]
  },
  {
   "cell_type": "code",
   "execution_count": 2,
   "metadata": {
    "collapsed": true
   },
   "outputs": [],
   "source": [
    "IRIS_PATH = \"datasets/Iris\""
   ]
  },
  {
   "cell_type": "code",
   "execution_count": 3,
   "metadata": {
    "collapsed": true
   },
   "outputs": [],
   "source": [
    "import pandas as pd\n",
    "import numpy as np"
   ]
  },
  {
   "cell_type": "code",
   "execution_count": 4,
   "metadata": {
    "collapsed": true
   },
   "outputs": [],
   "source": [
    "def load_iris_data(iris_path=IRIS_PATH):\n",
    "    csv_path = os.path.join(iris_path, \"iris.csv\")\n",
    "    return pd.read_csv(csv_path)#read csv"
   ]
  },
  {
   "cell_type": "code",
   "execution_count": 5,
   "metadata": {
    "collapsed": true
   },
   "outputs": [],
   "source": [
    "iris = load_iris_data()"
   ]
  },
  {
   "cell_type": "code",
   "execution_count": 6,
   "metadata": {},
   "outputs": [
    {
     "ename": "SyntaxError",
     "evalue": "invalid syntax (<ipython-input-6-509fa46bda7b>, line 1)",
     "output_type": "error",
     "traceback": [
      "\u001b[1;36m  File \u001b[1;32m\"<ipython-input-6-509fa46bda7b>\"\u001b[1;36m, line \u001b[1;32m1\u001b[0m\n\u001b[1;33m    iris.class\u001b[0m\n\u001b[1;37m             ^\u001b[0m\n\u001b[1;31mSyntaxError\u001b[0m\u001b[1;31m:\u001b[0m invalid syntax\n"
     ]
    }
   ],
   "source": [
    "iris.class\n"
   ]
  },
  {
   "cell_type": "code",
   "execution_count": 6,
   "metadata": {},
   "outputs": [
    {
     "data": {
      "text/html": [
       "<div>\n",
       "<style>\n",
       "    .dataframe thead tr:only-child th {\n",
       "        text-align: right;\n",
       "    }\n",
       "\n",
       "    .dataframe thead th {\n",
       "        text-align: left;\n",
       "    }\n",
       "\n",
       "    .dataframe tbody tr th {\n",
       "        vertical-align: top;\n",
       "    }\n",
       "</style>\n",
       "<table border=\"1\" class=\"dataframe\">\n",
       "  <thead>\n",
       "    <tr style=\"text-align: right;\">\n",
       "      <th></th>\n",
       "      <th>sepal length in cm</th>\n",
       "      <th>sepal width in cm</th>\n",
       "      <th>petal length in cm</th>\n",
       "      <th>petal width in cm</th>\n",
       "      <th>class</th>\n",
       "    </tr>\n",
       "  </thead>\n",
       "  <tbody>\n",
       "    <tr>\n",
       "      <th>0</th>\n",
       "      <td>5.1</td>\n",
       "      <td>3.5</td>\n",
       "      <td>1.4</td>\n",
       "      <td>0.2</td>\n",
       "      <td>Iris-setosa</td>\n",
       "    </tr>\n",
       "    <tr>\n",
       "      <th>1</th>\n",
       "      <td>4.9</td>\n",
       "      <td>3.0</td>\n",
       "      <td>1.4</td>\n",
       "      <td>0.2</td>\n",
       "      <td>Iris-setosa</td>\n",
       "    </tr>\n",
       "    <tr>\n",
       "      <th>2</th>\n",
       "      <td>4.7</td>\n",
       "      <td>3.2</td>\n",
       "      <td>1.3</td>\n",
       "      <td>0.2</td>\n",
       "      <td>Iris-setosa</td>\n",
       "    </tr>\n",
       "    <tr>\n",
       "      <th>3</th>\n",
       "      <td>4.6</td>\n",
       "      <td>3.1</td>\n",
       "      <td>1.5</td>\n",
       "      <td>0.2</td>\n",
       "      <td>Iris-setosa</td>\n",
       "    </tr>\n",
       "    <tr>\n",
       "      <th>4</th>\n",
       "      <td>5.0</td>\n",
       "      <td>3.6</td>\n",
       "      <td>1.4</td>\n",
       "      <td>0.2</td>\n",
       "      <td>Iris-setosa</td>\n",
       "    </tr>\n",
       "  </tbody>\n",
       "</table>\n",
       "</div>"
      ],
      "text/plain": [
       "   sepal length in cm  sepal width in cm  petal length in cm  \\\n",
       "0                 5.1                3.5                 1.4   \n",
       "1                 4.9                3.0                 1.4   \n",
       "2                 4.7                3.2                 1.3   \n",
       "3                 4.6                3.1                 1.5   \n",
       "4                 5.0                3.6                 1.4   \n",
       "\n",
       "   petal width in cm        class  \n",
       "0                0.2  Iris-setosa  \n",
       "1                0.2  Iris-setosa  \n",
       "2                0.2  Iris-setosa  \n",
       "3                0.2  Iris-setosa  \n",
       "4                0.2  Iris-setosa  "
      ]
     },
     "execution_count": 6,
     "metadata": {},
     "output_type": "execute_result"
    }
   ],
   "source": [
    "iris.head()"
   ]
  },
  {
   "cell_type": "code",
   "execution_count": 7,
   "metadata": {},
   "outputs": [
    {
     "name": "stdout",
     "output_type": "stream",
     "text": [
      "<class 'pandas.core.frame.DataFrame'>\n",
      "RangeIndex: 150 entries, 0 to 149\n",
      "Data columns (total 5 columns):\n",
      "sepal length in cm    150 non-null float64\n",
      "sepal width in cm     150 non-null float64\n",
      "petal length in cm    150 non-null float64\n",
      "petal width in cm     150 non-null float64\n",
      "class                 150 non-null object\n",
      "dtypes: float64(4), object(1)\n",
      "memory usage: 5.9+ KB\n"
     ]
    }
   ],
   "source": [
    "iris.info()"
   ]
  },
  {
   "cell_type": "code",
   "execution_count": 8,
   "metadata": {},
   "outputs": [
    {
     "data": {
      "text/plain": [
       "Iris-versicolor    50\n",
       "Iris-setosa        50\n",
       "Iris-virginica     50\n",
       "Name: class, dtype: int64"
      ]
     },
     "execution_count": 8,
     "metadata": {},
     "output_type": "execute_result"
    }
   ],
   "source": [
    "iris[\"class\"].value_counts()"
   ]
  },
  {
   "cell_type": "code",
   "execution_count": 24,
   "metadata": {},
   "outputs": [
    {
     "data": {
      "image/png": "[encoded data removed]",
      "text/plain": [
       "<matplotlib.figure.Figure at 0x1c1be68f828>"
      ]
     },
     "metadata": {},
     "output_type": "display_data"
    }
   ],
   "source": [
    "%matplotlib inline \n",
    "import matplotlib.pyplot as plt\n",
    "iris.hist(bins=50, figsize=(20,15)) #bins = division\n",
    "plt.show()"
   ]
  },
  {
   "cell_type": "code",
   "execution_count": 10,
   "metadata": {},
   "outputs": [
    {
     "data": {
      "text/plain": [
       "pandas.core.frame.DataFrame"
      ]
     },
     "execution_count": 10,
     "metadata": {},
     "output_type": "execute_result"
    }
   ],
   "source": [
    "type(iris)"
   ]
  },
  {
   "cell_type": "markdown",
   "metadata": {},
   "source": [
    "## Dividindo em conjunto de treino e teste"
   ]
  },
  {
   "cell_type": "code",
   "execution_count": 11,
   "metadata": {
    "collapsed": true
   },
   "outputs": [],
   "source": [
    "from sklearn.model_selection import train_test_split\n",
    "train_set, test_set = train_test_split(iris, test_size=0.2, random_state=42)"
   ]
  },
  {
   "cell_type": "code",
   "execution_count": 12,
   "metadata": {
    "collapsed": true
   },
   "outputs": [],
   "source": [
    "from sklearn.model_selection import StratifiedShuffleSplit"
   ]
  },
  {
   "cell_type": "code",
   "execution_count": 13,
   "metadata": {
    "collapsed": true
   },
   "outputs": [],
   "source": [
    "split = StratifiedShuffleSplit(n_splits=1, test_size=0.2, random_state=42)\n",
    "\n",
    "for train_index, test_index in split.split(iris, iris[\"class\"]):\n",
    "    strat_train_set = iris.loc[train_index]\n",
    "    strat_test_set = iris.loc[test_index]\n"
   ]
  },
  {
   "cell_type": "markdown",
   "metadata": {},
   "source": [
    "## Verificando o test set"
   ]
  },
  {
   "cell_type": "code",
   "execution_count": 14,
   "metadata": {},
   "outputs": [
    {
     "data": {
      "text/plain": [
       "Iris-versicolor    0.333333\n",
       "Iris-setosa        0.333333\n",
       "Iris-virginica     0.333333\n",
       "Name: class, dtype: float64"
      ]
     },
     "execution_count": 14,
     "metadata": {},
     "output_type": "execute_result"
    }
   ],
   "source": [
    "iris[\"class\"].value_counts() / len(iris)"
   ]
  },
  {
   "cell_type": "code",
   "execution_count": 15,
   "metadata": {},
   "outputs": [
    {
     "data": {
      "text/plain": [
       "Iris-virginica     0.333333\n",
       "Iris-versicolor    0.333333\n",
       "Iris-setosa        0.333333\n",
       "Name: class, dtype: float64"
      ]
     },
     "execution_count": 15,
     "metadata": {},
     "output_type": "execute_result"
    }
   ],
   "source": [
    "strat_test_set[\"class\"].value_counts() / len(strat_test_set)"
   ]
  },
  {
   "cell_type": "markdown",
   "metadata": {},
   "source": [
    "##  Visualizando os dados"
   ]
  },
  {
   "cell_type": "code",
   "execution_count": 30,
   "metadata": {
    "collapsed": true
   },
   "outputs": [],
   "source": [
    "iris = strat_train_set.copy()"
   ]
  },
  {
   "cell_type": "code",
   "execution_count": 31,
   "metadata": {},
   "outputs": [
    {
     "data": {
      "text/plain": [
       "<matplotlib.collections.PathCollection at 0x1c1beec1358>"
      ]
     },
     "execution_count": 31,
     "metadata": {},
     "output_type": "execute_result"
    },
    {
     "data": {
      "image/png": "[encoded data removed]",
      "text/plain": [
       "<matplotlib.figure.Figure at 0x1c1bef45f98>"
      ]
     },
     "metadata": {},
     "output_type": "display_data"
    }
   ],
   "source": [
    "plt.scatter(iris[\"sepal length in cm\"],iris[\"sepal width in cm\"],sizes=20*iris['petal length in cm'])"
   ]
  },
  {
   "cell_type": "code",
   "execution_count": 36,
   "metadata": {
    "collapsed": true
   },
   "outputs": [],
   "source": [
    "def specie_color(x):\n",
    "    if x == 'Iris-setosa':\n",
    "        return 0\n",
    "    elif x == 'Iris-versicolor':\n",
    "        return 1\n",
    "    else: \n",
    "        return 2"
   ]
  },
  {
   "cell_type": "code",
   "execution_count": 37,
   "metadata": {
    "collapsed": true
   },
   "outputs": [],
   "source": [
    "iris['specie_number'] = iris['class'].apply(specie_color)"
   ]
  },
  {
   "cell_type": "code",
   "execution_count": 46,
   "metadata": {},
   "outputs": [
    {
     "data": {
      "text/html": [
       "<div>\n",
       "<style>\n",
       "    .dataframe thead tr:only-child th {\n",
       "        text-align: right;\n",
       "    }\n",
       "\n",
       "    .dataframe thead th {\n",
       "        text-align: left;\n",
       "    }\n",
       "\n",
       "    .dataframe tbody tr th {\n",
       "        vertical-align: top;\n",
       "    }\n",
       "</style>\n",
       "<table border=\"1\" class=\"dataframe\">\n",
       "  <thead>\n",
       "    <tr style=\"text-align: right;\">\n",
       "      <th></th>\n",
       "      <th>sepal length in cm</th>\n",
       "      <th>sepal width in cm</th>\n",
       "      <th>petal length in cm</th>\n",
       "      <th>petal width in cm</th>\n",
       "      <th>specie_number</th>\n",
       "    </tr>\n",
       "  </thead>\n",
       "  <tbody>\n",
       "    <tr>\n",
       "      <th>8</th>\n",
       "      <td>4.4</td>\n",
       "      <td>2.9</td>\n",
       "      <td>1.4</td>\n",
       "      <td>0.2</td>\n",
       "      <td>0</td>\n",
       "    </tr>\n",
       "    <tr>\n",
       "      <th>106</th>\n",
       "      <td>4.9</td>\n",
       "      <td>2.5</td>\n",
       "      <td>4.5</td>\n",
       "      <td>1.7</td>\n",
       "      <td>2</td>\n",
       "    </tr>\n",
       "    <tr>\n",
       "      <th>76</th>\n",
       "      <td>6.8</td>\n",
       "      <td>2.8</td>\n",
       "      <td>4.8</td>\n",
       "      <td>1.4</td>\n",
       "      <td>1</td>\n",
       "    </tr>\n",
       "    <tr>\n",
       "      <th>9</th>\n",
       "      <td>4.9</td>\n",
       "      <td>3.1</td>\n",
       "      <td>1.5</td>\n",
       "      <td>0.1</td>\n",
       "      <td>0</td>\n",
       "    </tr>\n",
       "    <tr>\n",
       "      <th>89</th>\n",
       "      <td>5.5</td>\n",
       "      <td>2.5</td>\n",
       "      <td>4.0</td>\n",
       "      <td>1.3</td>\n",
       "      <td>1</td>\n",
       "    </tr>\n",
       "  </tbody>\n",
       "</table>\n",
       "</div>"
      ],
      "text/plain": [
       "     sepal length in cm  sepal width in cm  petal length in cm  \\\n",
       "8                   4.4                2.9                 1.4   \n",
       "106                 4.9                2.5                 4.5   \n",
       "76                  6.8                2.8                 4.8   \n",
       "9                   4.9                3.1                 1.5   \n",
       "89                  5.5                2.5                 4.0   \n",
       "\n",
       "     petal width in cm  specie_number  \n",
       "8                  0.2              0  \n",
       "106                1.7              2  \n",
       "76                 1.4              1  \n",
       "9                  0.1              0  \n",
       "89                 1.3              1  "
      ]
     },
     "execution_count": 46,
     "metadata": {},
     "output_type": "execute_result"
    }
   ],
   "source": [
    "iris.head()"
   ]
  },
  {
   "cell_type": "code",
   "execution_count": 56,
   "metadata": {},
   "outputs": [
    {
     "data": {
      "text/plain": [
       "<matplotlib.collections.PathCollection at 0x1c1bf42c550>"
      ]
     },
     "execution_count": 56,
     "metadata": {},
     "output_type": "execute_result"
    },
    {
     "data": {
      "image/png": "[encoded data removed]",
      "text/plain": [
       "<matplotlib.figure.Figure at 0x1c1bec27d30>"
      ]
     },
     "metadata": {},
     "output_type": "display_data"
    }
   ],
   "source": [
    "plt.scatter(iris[\"petal length in cm\"],iris[\"petal width in cm\"],sizes=20*iris['sepal length in cm']\n",
    "            ,c=iris['specie_number'],cmap ='viridis',alpha=0.4)"
   ]
  },
  {
   "cell_type": "code",
   "execution_count": 45,
   "metadata": {
    "collapsed": true
   },
   "outputs": [],
   "source": [
    "del iris['class']"
   ]
  },
  {
   "cell_type": "markdown",
   "metadata": {},
   "source": [
    "## Olhando para as correlações"
   ]
  },
  {
   "cell_type": "code",
   "execution_count": 47,
   "metadata": {
    "collapsed": true
   },
   "outputs": [],
   "source": [
    "corr_matrix = iris.corr()"
   ]
  },
  {
   "cell_type": "code",
   "execution_count": 48,
   "metadata": {},
   "outputs": [
    {
     "data": {
      "text/plain": [
       "specie_number         1.000000\n",
       "petal width in cm     0.959387\n",
       "petal length in cm    0.951013\n",
       "sepal length in cm    0.792204\n",
       "sepal width in cm    -0.388647\n",
       "Name: specie_number, dtype: float64"
      ]
     },
     "execution_count": 48,
     "metadata": {},
     "output_type": "execute_result"
    }
   ],
   "source": [
    "corr_matrix[\"specie_number\"].sort_values(ascending=False)"
   ]
  },
  {
   "cell_type": "code",
   "execution_count": 51,
   "metadata": {
    "collapsed": true
   },
   "outputs": [],
   "source": [
    "from pandas.tools.plotting import scatter_matrix"
   ]
  },
  {
   "cell_type": "code",
   "execution_count": 55,
   "metadata": {},
   "outputs": [
    {
     "name": "stderr",
     "output_type": "stream",
     "text": [
      "C:\\Users\\Jonathas\\Anaconda3\\lib\\site-packages\\ipykernel_launcher.py:3: FutureWarning: 'pandas.tools.plotting.scatter_matrix' is deprecated, import 'pandas.plotting.scatter_matrix' instead.\n",
      "  This is separate from the ipykernel package so we can avoid doing imports until\n"
     ]
    },
    {
     "data": {
      "image/png": "[encoded data removed]",
      "text/plain": [
       "<matplotlib.figure.Figure at 0x1c1bec2feb8>"
      ]
     },
     "metadata": {},
     "output_type": "display_data"
    }
   ],
   "source": [
    "attributes = [\"petal width in cm\", \"petal length in cm\", \"sepal length in cm\",\n",
    "              \"specie_number\"]\n",
    "scatter_matrix(iris[attributes], figsize=(12, 8))\n",
    "plt.show()"
   ]
  },
  {
   "cell_type": "markdown",
   "metadata": {},
   "source": [
    "## Experimentando outras features"
   ]
  },
  {
   "cell_type": "code",
   "execution_count": 66,
   "metadata": {
    "collapsed": true
   },
   "outputs": [],
   "source": [
    "iris['soma'] = iris['petal length in cm'] + iris['petal width in cm']"
   ]
  },
  {
   "cell_type": "code",
   "execution_count": 67,
   "metadata": {},
   "outputs": [
    {
     "data": {
      "text/html": [
       "<div>\n",
       "<style>\n",
       "    .dataframe thead tr:only-child th {\n",
       "        text-align: right;\n",
       "    }\n",
       "\n",
       "    .dataframe thead th {\n",
       "        text-align: left;\n",
       "    }\n",
       "\n",
       "    .dataframe tbody tr th {\n",
       "        vertical-align: top;\n",
       "    }\n",
       "</style>\n",
       "<table border=\"1\" class=\"dataframe\">\n",
       "  <thead>\n",
       "    <tr style=\"text-align: right;\">\n",
       "      <th></th>\n",
       "      <th>sepal length in cm</th>\n",
       "      <th>sepal width in cm</th>\n",
       "      <th>petal length in cm</th>\n",
       "      <th>petal width in cm</th>\n",
       "      <th>specie_number</th>\n",
       "      <th>soma</th>\n",
       "    </tr>\n",
       "  </thead>\n",
       "  <tbody>\n",
       "    <tr>\n",
       "      <th>8</th>\n",
       "      <td>4.4</td>\n",
       "      <td>2.9</td>\n",
       "      <td>1.4</td>\n",
       "      <td>0.2</td>\n",
       "      <td>0</td>\n",
       "      <td>1.6</td>\n",
       "    </tr>\n",
       "    <tr>\n",
       "      <th>106</th>\n",
       "      <td>4.9</td>\n",
       "      <td>2.5</td>\n",
       "      <td>4.5</td>\n",
       "      <td>1.7</td>\n",
       "      <td>2</td>\n",
       "      <td>6.2</td>\n",
       "    </tr>\n",
       "    <tr>\n",
       "      <th>76</th>\n",
       "      <td>6.8</td>\n",
       "      <td>2.8</td>\n",
       "      <td>4.8</td>\n",
       "      <td>1.4</td>\n",
       "      <td>1</td>\n",
       "      <td>6.2</td>\n",
       "    </tr>\n",
       "    <tr>\n",
       "      <th>9</th>\n",
       "      <td>4.9</td>\n",
       "      <td>3.1</td>\n",
       "      <td>1.5</td>\n",
       "      <td>0.1</td>\n",
       "      <td>0</td>\n",
       "      <td>1.6</td>\n",
       "    </tr>\n",
       "    <tr>\n",
       "      <th>89</th>\n",
       "      <td>5.5</td>\n",
       "      <td>2.5</td>\n",
       "      <td>4.0</td>\n",
       "      <td>1.3</td>\n",
       "      <td>1</td>\n",
       "      <td>5.3</td>\n",
       "    </tr>\n",
       "  </tbody>\n",
       "</table>\n",
       "</div>"
      ],
      "text/plain": [
       "     sepal length in cm  sepal width in cm  petal length in cm  \\\n",
       "8                   4.4                2.9                 1.4   \n",
       "106                 4.9                2.5                 4.5   \n",
       "76                  6.8                2.8                 4.8   \n",
       "9                   4.9                3.1                 1.5   \n",
       "89                  5.5                2.5                 4.0   \n",
       "\n",
       "     petal width in cm  specie_number  soma  \n",
       "8                  0.2              0   1.6  \n",
       "106                1.7              2   6.2  \n",
       "76                 1.4              1   6.2  \n",
       "9                  0.1              0   1.6  \n",
       "89                 1.3              1   5.3  "
      ]
     },
     "execution_count": 67,
     "metadata": {},
     "output_type": "execute_result"
    }
   ],
   "source": [
    "iris.head()"
   ]
  },
  {
   "cell_type": "code",
   "execution_count": 68,
   "metadata": {
    "collapsed": true
   },
   "outputs": [],
   "source": [
    "corr_matrix = iris.corr()"
   ]
  },
  {
   "cell_type": "code",
   "execution_count": 69,
   "metadata": {},
   "outputs": [
    {
     "data": {
      "text/plain": [
       "specie_number         1.000000\n",
       "soma                  0.960948\n",
       "petal width in cm     0.959387\n",
       "petal length in cm    0.951013\n",
       "sepal length in cm    0.792204\n",
       "sepal width in cm    -0.388647\n",
       "Name: specie_number, dtype: float64"
      ]
     },
     "execution_count": 69,
     "metadata": {},
     "output_type": "execute_result"
    }
   ],
   "source": [
    "corr_matrix[\"specie_number\"].sort_values(ascending=False)"
   ]
  },
  {
   "cell_type": "markdown",
   "metadata": {},
   "source": [
    "## Preparando os dados"
   ]
  },
  {
   "cell_type": "code",
   "execution_count": 145,
   "metadata": {
    "collapsed": true
   },
   "outputs": [],
   "source": [
    "strat_train_set['class'] = strat_train_set['class'].apply(specie_color)\n",
    "iris = strat_train_set.drop(\"class\", axis=1)\n",
    "iris_labels = strat_train_set[\"class\"].copy()"
   ]
  },
  {
   "cell_type": "code",
   "execution_count": 146,
   "metadata": {},
   "outputs": [
    {
     "data": {
      "text/html": [
       "<div>\n",
       "<style>\n",
       "    .dataframe thead tr:only-child th {\n",
       "        text-align: right;\n",
       "    }\n",
       "\n",
       "    .dataframe thead th {\n",
       "        text-align: left;\n",
       "    }\n",
       "\n",
       "    .dataframe tbody tr th {\n",
       "        vertical-align: top;\n",
       "    }\n",
       "</style>\n",
       "<table border=\"1\" class=\"dataframe\">\n",
       "  <thead>\n",
       "    <tr style=\"text-align: right;\">\n",
       "      <th></th>\n",
       "      <th>sepal length in cm</th>\n",
       "      <th>sepal width in cm</th>\n",
       "      <th>petal length in cm</th>\n",
       "      <th>petal width in cm</th>\n",
       "    </tr>\n",
       "  </thead>\n",
       "  <tbody>\n",
       "    <tr>\n",
       "      <th>8</th>\n",
       "      <td>4.4</td>\n",
       "      <td>2.9</td>\n",
       "      <td>1.4</td>\n",
       "      <td>0.2</td>\n",
       "    </tr>\n",
       "    <tr>\n",
       "      <th>106</th>\n",
       "      <td>4.9</td>\n",
       "      <td>2.5</td>\n",
       "      <td>4.5</td>\n",
       "      <td>1.7</td>\n",
       "    </tr>\n",
       "    <tr>\n",
       "      <th>76</th>\n",
       "      <td>6.8</td>\n",
       "      <td>2.8</td>\n",
       "      <td>4.8</td>\n",
       "      <td>1.4</td>\n",
       "    </tr>\n",
       "    <tr>\n",
       "      <th>9</th>\n",
       "      <td>4.9</td>\n",
       "      <td>3.1</td>\n",
       "      <td>1.5</td>\n",
       "      <td>0.1</td>\n",
       "    </tr>\n",
       "    <tr>\n",
       "      <th>89</th>\n",
       "      <td>5.5</td>\n",
       "      <td>2.5</td>\n",
       "      <td>4.0</td>\n",
       "      <td>1.3</td>\n",
       "    </tr>\n",
       "  </tbody>\n",
       "</table>\n",
       "</div>"
      ],
      "text/plain": [
       "     sepal length in cm  sepal width in cm  petal length in cm  \\\n",
       "8                   4.4                2.9                 1.4   \n",
       "106                 4.9                2.5                 4.5   \n",
       "76                  6.8                2.8                 4.8   \n",
       "9                   4.9                3.1                 1.5   \n",
       "89                  5.5                2.5                 4.0   \n",
       "\n",
       "     petal width in cm  \n",
       "8                  0.2  \n",
       "106                1.7  \n",
       "76                 1.4  \n",
       "9                  0.1  \n",
       "89                 1.3  "
      ]
     },
     "execution_count": 146,
     "metadata": {},
     "output_type": "execute_result"
    }
   ],
   "source": [
    "iris.head()"
   ]
  },
  {
   "cell_type": "code",
   "execution_count": 217,
   "metadata": {
    "collapsed": true
   },
   "outputs": [
    {
     "data": {
      "text/plain": [
       "8      0\n",
       "106    2\n",
       "76     1\n",
       "9      0\n",
       "89     1\n",
       "146    2\n",
       "94     1\n",
       "133    2\n",
       "135    2\n",
       "117    2\n",
       "105    2\n",
       "78     1\n",
       "60     1\n",
       "67     1\n",
       "92     1\n",
       "29     0\n",
       "19     0\n",
       "108    2\n",
       "137    2\n",
       "31     0\n",
       "72     1\n",
       "46     0\n",
       "131    2\n",
       "25     0\n",
       "81     1\n",
       "103    2\n",
       "111    2\n",
       "26     0\n",
       "121    2\n",
       "40     0\n",
       "      ..\n",
       "97     1\n",
       "110    2\n",
       "44     0\n",
       "13     0\n",
       "124    2\n",
       "118    2\n",
       "112    2\n",
       "87     1\n",
       "126    2\n",
       "5      0\n",
       "143    2\n",
       "96     1\n",
       "125    2\n",
       "102    2\n",
       "48     0\n",
       "74     1\n",
       "73     1\n",
       "95     1\n",
       "88     1\n",
       "65     1\n",
       "27     0\n",
       "128    2\n",
       "62     1\n",
       "61     1\n",
       "11     0\n",
       "37     0\n",
       "2      0\n",
       "33     0\n",
       "52     1\n",
       "3      0\n",
       "Name: class, Length: 120, dtype: int64"
      ]
     },
     "execution_count": 217,
     "metadata": {},
     "output_type": "execute_result"
    }
   ],
   "source": [
    "iris_labels"
   ]
  },
  {
   "cell_type": "code",
   "execution_count": 147,
   "metadata": {},
   "outputs": [
    {
     "data": {
      "text/html": [
       "<div>\n",
       "<style>\n",
       "    .dataframe thead tr:only-child th {\n",
       "        text-align: right;\n",
       "    }\n",
       "\n",
       "    .dataframe thead th {\n",
       "        text-align: left;\n",
       "    }\n",
       "\n",
       "    .dataframe tbody tr th {\n",
       "        vertical-align: top;\n",
       "    }\n",
       "</style>\n",
       "<table border=\"1\" class=\"dataframe\">\n",
       "  <thead>\n",
       "    <tr style=\"text-align: right;\">\n",
       "      <th></th>\n",
       "      <th>sepal length in cm</th>\n",
       "      <th>sepal width in cm</th>\n",
       "      <th>petal length in cm</th>\n",
       "      <th>petal width in cm</th>\n",
       "      <th>class</th>\n",
       "    </tr>\n",
       "  </thead>\n",
       "  <tbody>\n",
       "    <tr>\n",
       "      <th>8</th>\n",
       "      <td>4.4</td>\n",
       "      <td>2.9</td>\n",
       "      <td>1.4</td>\n",
       "      <td>0.2</td>\n",
       "      <td>0</td>\n",
       "    </tr>\n",
       "    <tr>\n",
       "      <th>106</th>\n",
       "      <td>4.9</td>\n",
       "      <td>2.5</td>\n",
       "      <td>4.5</td>\n",
       "      <td>1.7</td>\n",
       "      <td>2</td>\n",
       "    </tr>\n",
       "    <tr>\n",
       "      <th>76</th>\n",
       "      <td>6.8</td>\n",
       "      <td>2.8</td>\n",
       "      <td>4.8</td>\n",
       "      <td>1.4</td>\n",
       "      <td>1</td>\n",
       "    </tr>\n",
       "    <tr>\n",
       "      <th>9</th>\n",
       "      <td>4.9</td>\n",
       "      <td>3.1</td>\n",
       "      <td>1.5</td>\n",
       "      <td>0.1</td>\n",
       "      <td>0</td>\n",
       "    </tr>\n",
       "    <tr>\n",
       "      <th>89</th>\n",
       "      <td>5.5</td>\n",
       "      <td>2.5</td>\n",
       "      <td>4.0</td>\n",
       "      <td>1.3</td>\n",
       "      <td>1</td>\n",
       "    </tr>\n",
       "  </tbody>\n",
       "</table>\n",
       "</div>"
      ],
      "text/plain": [
       "     sepal length in cm  sepal width in cm  petal length in cm  \\\n",
       "8                   4.4                2.9                 1.4   \n",
       "106                 4.9                2.5                 4.5   \n",
       "76                  6.8                2.8                 4.8   \n",
       "9                   4.9                3.1                 1.5   \n",
       "89                  5.5                2.5                 4.0   \n",
       "\n",
       "     petal width in cm  class  \n",
       "8                  0.2      0  \n",
       "106                1.7      2  \n",
       "76                 1.4      1  \n",
       "9                  0.1      0  \n",
       "89                 1.3      1  "
      ]
     },
     "execution_count": 147,
     "metadata": {},
     "output_type": "execute_result"
    }
   ],
   "source": [
    "strat_train_set.head()"
   ]
  },
  {
   "cell_type": "markdown",
   "metadata": {},
   "source": [
    "## Alguns testes"
   ]
  },
  {
   "cell_type": "code",
   "execution_count": 148,
   "metadata": {},
   "outputs": [
    {
     "data": {
      "text/plain": [
       "Imputer(axis=0, copy=True, missing_values='NaN', strategy='median', verbose=0)"
      ]
     },
     "execution_count": 148,
     "metadata": {},
     "output_type": "execute_result"
    }
   ],
   "source": [
    "from sklearn.preprocessing import Imputer\n",
    "\n",
    "imputer = Imputer(strategy=\"median\")\n",
    "imputer.fit(iris)"
   ]
  },
  {
   "cell_type": "code",
   "execution_count": 149,
   "metadata": {
    "collapsed": true
   },
   "outputs": [],
   "source": [
    "X = imputer.transform(iris)"
   ]
  },
  {
   "cell_type": "markdown",
   "metadata": {},
   "source": [
    "## Algumas transformações"
   ]
  },
  {
   "cell_type": "code",
   "execution_count": 150,
   "metadata": {
    "collapsed": true
   },
   "outputs": [],
   "source": [
    "from sklearn.base import BaseEstimator, TransformerMixin"
   ]
  },
  {
   "cell_type": "code",
   "execution_count": 151,
   "metadata": {
    "collapsed": true
   },
   "outputs": [],
   "source": [
    "petal_lenght_ix, petal_width_ix = 2, 3\n",
    "\n",
    "class CombinedAttributesAdder(BaseEstimator, TransformerMixin): \n",
    "    def fit(self, X, y=None):\n",
    "        return self # nothing else to do\n",
    "    def transform(self, X, y=None):\n",
    "        petal_sum = X[:, petal_lenght_ix] + X[:, petal_width_ix]\n",
    "        return np.c_[X, petal_sum]\n"
   ]
  },
  {
   "cell_type": "code",
   "execution_count": 152,
   "metadata": {
    "collapsed": true
   },
   "outputs": [],
   "source": [
    "attr_adder = CombinedAttributesAdder()\n",
    "iris_extra_attribs = attr_adder.transform(iris.values)"
   ]
  },
  {
   "cell_type": "code",
   "execution_count": 153,
   "metadata": {
    "collapsed": true
   },
   "outputs": [
    {
     "data": {
      "text/plain": [
       "array([[ 4.4,  2.9,  1.4,  0.2,  1.6],\n",
       "       [ 4.9,  2.5,  4.5,  1.7,  6.2],\n",
       "       [ 6.8,  2.8,  4.8,  1.4,  6.2],\n",
       "       [ 4.9,  3.1,  1.5,  0.1,  1.6],\n",
       "       [ 5.5,  2.5,  4. ,  1.3,  5.3],\n",
       "       [ 6.3,  2.5,  5. ,  1.9,  6.9],\n",
       "       [ 5.6,  2.7,  4.2,  1.3,  5.5],\n",
       "       [ 6.3,  2.8,  5.1,  1.5,  6.6],\n",
       "       [ 7.7,  3. ,  6.1,  2.3,  8.4],\n",
       "       [ 7.7,  3.8,  6.7,  2.2,  8.9],\n",
       "       [ 7.6,  3. ,  6.6,  2.1,  8.7],\n",
       "       [ 6. ,  2.9,  4.5,  1.5,  6. ],\n",
       "       [ 5. ,  2. ,  3.5,  1. ,  4.5],\n",
       "       [ 5.8,  2.7,  4.1,  1. ,  5.1],\n",
       "       [ 5.8,  2.6,  4. ,  1.2,  5.2],\n",
       "       [ 4.7,  3.2,  1.6,  0.2,  1.8],\n",
       "       [ 5.1,  3.8,  1.5,  0.3,  1.8],\n",
       "       [ 6.7,  2.5,  5.8,  1.8,  7.6],\n",
       "       [ 6.4,  3.1,  5.5,  1.8,  7.3],\n",
       "       [ 5.4,  3.4,  1.5,  0.4,  1.9],\n",
       "       [ 6.3,  2.5,  4.9,  1.5,  6.4],\n",
       "       [ 5.1,  3.8,  1.6,  0.2,  1.8],\n",
       "       [ 7.9,  3.8,  6.4,  2. ,  8.4],\n",
       "       [ 5. ,  3. ,  1.6,  0.2,  1.8],\n",
       "       [ 5.5,  2.4,  3.7,  1. ,  4.7],\n",
       "       [ 6.3,  2.9,  5.6,  1.8,  7.4],\n",
       "       [ 6.4,  2.7,  5.3,  1.9,  7.2],\n",
       "       [ 5. ,  3.4,  1.6,  0.4,  2. ],\n",
       "       [ 5.6,  2.8,  4.9,  2. ,  6.9],\n",
       "       [ 5. ,  3.5,  1.3,  0.3,  1.6],\n",
       "       [ 5.1,  3.7,  1.5,  0.4,  1.9],\n",
       "       [ 6.1,  2.8,  4. ,  1.3,  5.3],\n",
       "       [ 6.1,  3. ,  4.6,  1.4,  6. ],\n",
       "       [ 5.7,  4.4,  1.5,  0.4,  1.9],\n",
       "       [ 6.9,  3.1,  5.4,  2.1,  7.5],\n",
       "       [ 6.2,  3.4,  5.4,  2.3,  7.7],\n",
       "       [ 5.7,  2.6,  3.5,  1. ,  4.5],\n",
       "       [ 5.2,  2.7,  3.9,  1.4,  5.3],\n",
       "       [ 6.7,  3.3,  5.7,  2.5,  8.2],\n",
       "       [ 5.9,  3.2,  4.8,  1.8,  6.6],\n",
       "       [ 4.6,  3.4,  1.4,  0.3,  1.7],\n",
       "       [ 7. ,  3.2,  4.7,  1.4,  6.1],\n",
       "       [ 5.4,  3.9,  1.3,  0.4,  1.7],\n",
       "       [ 7.4,  2.8,  6.1,  1.9,  8. ],\n",
       "       [ 4.9,  3. ,  1.4,  0.2,  1.6],\n",
       "       [ 5.1,  3.5,  1.4,  0.3,  1.7],\n",
       "       [ 5.8,  2.7,  5.1,  1.9,  7. ],\n",
       "       [ 5. ,  3.2,  1.2,  0.2,  1.4],\n",
       "       [ 4.5,  2.3,  1.3,  0.3,  1.6],\n",
       "       [ 4.8,  3. ,  1.4,  0.1,  1.5],\n",
       "       [ 4.8,  3. ,  1.4,  0.3,  1.7],\n",
       "       [ 5.6,  2.9,  3.6,  1.3,  4.9],\n",
       "       [ 6.3,  3.3,  6. ,  2.5,  8.5],\n",
       "       [ 5.7,  2.8,  4.5,  1.3,  5.8],\n",
       "       [ 5.1,  3.5,  1.4,  0.2,  1.6],\n",
       "       [ 5.9,  3. ,  5.1,  1.8,  6.9],\n",
       "       [ 5.7,  2.8,  4.1,  1.3,  5.4],\n",
       "       [ 6.3,  3.4,  5.6,  2.4,  8. ],\n",
       "       [ 4.6,  3.2,  1.4,  0.2,  1.6],\n",
       "       [ 5.8,  2.7,  5.1,  1.9,  7. ],\n",
       "       [ 5.5,  3.5,  1.3,  0.2,  1.5],\n",
       "       [ 5.5,  2.3,  4. ,  1.3,  5.3],\n",
       "       [ 5.7,  2.5,  5. ,  2. ,  7. ],\n",
       "       [ 4.8,  3.4,  1.9,  0.2,  2.1],\n",
       "       [ 6. ,  2.7,  5.1,  1.6,  6.7],\n",
       "       [ 5.5,  2.6,  4.4,  1.2,  5.6],\n",
       "       [ 7.7,  2.8,  6.7,  2. ,  8.7],\n",
       "       [ 5.6,  3. ,  4.5,  1.5,  6. ],\n",
       "       [ 6.5,  2.8,  4.6,  1.5,  6.1],\n",
       "       [ 6.4,  3.2,  5.3,  2.3,  7.6],\n",
       "       [ 5.1,  3.4,  1.5,  0.2,  1.7],\n",
       "       [ 5.1,  3.3,  1.7,  0.5,  2.2],\n",
       "       [ 5. ,  3.6,  1.4,  0.2,  1.6],\n",
       "       [ 6. ,  2.2,  5. ,  1.5,  6.5],\n",
       "       [ 5.8,  2.7,  3.9,  1.2,  5.1],\n",
       "       [ 7.2,  3. ,  5.8,  1.6,  7.4],\n",
       "       [ 5.5,  2.4,  3.8,  1.1,  4.9],\n",
       "       [ 6.7,  3. ,  5.2,  2.3,  7.5],\n",
       "       [ 6.3,  2.7,  4.9,  1.8,  6.7],\n",
       "       [ 6. ,  3.4,  4.5,  1.6,  6.1],\n",
       "       [ 4.9,  3.1,  1.5,  0.1,  1.6],\n",
       "       [ 5.8,  2.8,  5.1,  2.4,  7.5],\n",
       "       [ 6.2,  2.2,  4.5,  1.5,  6. ],\n",
       "       [ 5. ,  3.5,  1.6,  0.6,  2.2],\n",
       "       [ 6.9,  3.2,  5.7,  2.3,  8. ],\n",
       "       [ 5.2,  4.1,  1.5,  0.1,  1.6],\n",
       "       [ 7.2,  3.6,  6.1,  2.5,  8.6],\n",
       "       [ 5.1,  2.5,  3. ,  1.1,  4.1],\n",
       "       [ 6.7,  3.1,  4.7,  1.5,  6.2],\n",
       "       [ 4.8,  3.1,  1.6,  0.2,  1.8],\n",
       "       [ 6.2,  2.9,  4.3,  1.3,  5.6],\n",
       "       [ 6.5,  3.2,  5.1,  2. ,  7.1],\n",
       "       [ 5.1,  3.8,  1.9,  0.4,  2.3],\n",
       "       [ 4.3,  3. ,  1.1,  0.1,  1.2],\n",
       "       [ 6.7,  3.3,  5.7,  2.1,  7.8],\n",
       "       [ 7.7,  2.6,  6.9,  2.3,  9.2],\n",
       "       [ 6.8,  3. ,  5.5,  2.1,  7.6],\n",
       "       [ 6.3,  2.3,  4.4,  1.3,  5.7],\n",
       "       [ 6.2,  2.8,  4.8,  1.8,  6.6],\n",
       "       [ 5.4,  3.9,  1.7,  0.4,  2.1],\n",
       "       [ 6.8,  3.2,  5.9,  2.3,  8.2],\n",
       "       [ 5.7,  2.9,  4.2,  1.3,  5.5],\n",
       "       [ 7.2,  3.2,  6. ,  1.8,  7.8],\n",
       "       [ 7.1,  3. ,  5.9,  2.1,  8. ],\n",
       "       [ 5.3,  3.7,  1.5,  0.2,  1.7],\n",
       "       [ 6.4,  2.9,  4.3,  1.3,  5.6],\n",
       "       [ 6.1,  2.8,  4.7,  1.2,  5.9],\n",
       "       [ 5.7,  3. ,  4.2,  1.2,  5.4],\n",
       "       [ 5.6,  3. ,  4.1,  1.3,  5.4],\n",
       "       [ 6.7,  3.1,  4.4,  1.4,  5.8],\n",
       "       [ 5.2,  3.5,  1.5,  0.2,  1.7],\n",
       "       [ 6.4,  2.8,  5.6,  2.1,  7.7],\n",
       "       [ 6. ,  2.2,  4. ,  1. ,  5. ],\n",
       "       [ 5.9,  3. ,  4.2,  1.5,  5.7],\n",
       "       [ 4.8,  3.4,  1.6,  0.2,  1.8],\n",
       "       [ 4.9,  3.1,  1.5,  0.1,  1.6],\n",
       "       [ 4.7,  3.2,  1.3,  0.2,  1.5],\n",
       "       [ 5.5,  4.2,  1.4,  0.2,  1.6],\n",
       "       [ 6.9,  3.1,  4.9,  1.5,  6.4],\n",
       "       [ 4.6,  3.1,  1.5,  0.2,  1.7]])"
      ]
     },
     "execution_count": 153,
     "metadata": {},
     "output_type": "execute_result"
    }
   ],
   "source": [
    "iris_extra_attribs"
   ]
  },
  {
   "cell_type": "code",
   "execution_count": 154,
   "metadata": {
    "collapsed": true
   },
   "outputs": [],
   "source": [
    "from sklearn.pipeline import Pipeline\n",
    "from sklearn.preprocessing import StandardScaler"
   ]
  },
  {
   "cell_type": "code",
   "execution_count": 155,
   "metadata": {
    "collapsed": true
   },
   "outputs": [],
   "source": [
    "num_pipeline = Pipeline([\n",
    "    ('imputer', Imputer(strategy=\"median\")),\n",
    "    ('attribs_adder', CombinedAttributesAdder()),\n",
    "    ('std_scaler', StandardScaler()),\n",
    "])\n",
    "\n",
    "iris_num_tr = num_pipeline.fit_transform(iris)"
   ]
  },
  {
   "cell_type": "code",
   "execution_count": 156,
   "metadata": {},
   "outputs": [
    {
     "data": {
      "text/plain": [
       "array([[-1.72156775, -0.32483982, -1.34703555, -1.32016847, -1.34933   ],\n",
       "       [-1.12449223, -1.22612948,  0.41429037,  0.65186742,  0.48975681],\n",
       "       [ 1.14439475, -0.55016223,  0.58474127,  0.25746024,  0.48975681],\n",
       "       [-1.12449223,  0.12580502, -1.29021859, -1.45163753, -1.34933   ],\n",
       "       [-0.40800161, -1.22612948,  0.13020555,  0.12599118,  0.12993548],\n",
       "       [ 0.54731923, -1.22612948,  0.6983752 ,  0.91480554,  0.76961785],\n",
       "       [-0.2885865 , -0.77548465,  0.24383948,  0.12599118,  0.20989578],\n",
       "       [ 0.54731923, -0.55016223,  0.75519216,  0.3889293 ,  0.64967741],\n",
       "       [ 2.21913069, -0.0995174 ,  1.32336182,  1.44068178,  1.36932007],\n",
       "       [ 2.21913069,  1.70306192,  1.66426361,  1.30921272,  1.56922081],\n",
       "       [ 2.09971558, -0.0995174 ,  1.60744665,  1.17774366,  1.48926052],\n",
       "       [ 0.18907392, -0.32483982,  0.41429037,  0.3889293 ,  0.40979652],\n",
       "       [-1.00507713, -2.35274155, -0.15387928, -0.268416  , -0.1899057 ],\n",
       "       [-0.04975629, -0.77548465,  0.18702251, -0.268416  ,  0.04997519],\n",
       "       [-0.04975629, -1.00080706,  0.13020555, -0.00547788,  0.08995533],\n",
       "       [-1.36332244,  0.35112743, -1.23340162, -1.32016847, -1.2693697 ],\n",
       "       [-0.88566202,  1.70306192, -1.29021859, -1.18869941, -1.2693697 ],\n",
       "       [ 1.02497964, -1.22612948,  1.15291092,  0.78333648,  1.04947889],\n",
       "       [ 0.66673433,  0.12580502,  0.98246003,  0.78333648,  0.92953844],\n",
       "       [-0.52741671,  0.80177226, -1.29021859, -1.05723035, -1.22938955],\n",
       "       [ 0.54731923, -1.22612948,  0.64155823,  0.3889293 ,  0.56971711],\n",
       "       [-0.88566202,  1.70306192, -1.23340162, -1.32016847, -1.2693697 ],\n",
       "       [ 2.4579609 ,  1.70306192,  1.49381271,  1.0462746 ,  1.36932007],\n",
       "       [-1.00507713, -0.0995174 , -1.23340162, -1.32016847, -1.2693697 ],\n",
       "       [-0.40800161, -1.45145189, -0.04024535, -0.268416  , -0.10994541],\n",
       "       [ 0.54731923, -0.32483982,  1.03927699,  0.78333648,  0.96951859],\n",
       "       [ 0.66673433, -0.77548465,  0.8688261 ,  0.91480554,  0.8895583 ],\n",
       "       [-1.00507713,  0.80177226, -1.23340162, -1.05723035, -1.18940941],\n",
       "       [-0.2885865 , -0.55016223,  0.64155823,  1.0462746 ,  0.76961785],\n",
       "       [-1.00507713,  1.02709468, -1.40385252, -1.18869941, -1.34933   ],\n",
       "       [-0.88566202,  1.47773951, -1.29021859, -1.05723035, -1.22938955],\n",
       "       [ 0.30848902, -0.55016223,  0.13020555,  0.12599118,  0.12993548],\n",
       "       [ 0.30848902, -0.0995174 ,  0.47110734,  0.25746024,  0.40979652],\n",
       "       [-0.1691714 ,  3.05499641, -1.29021859, -1.05723035, -1.22938955],\n",
       "       [ 1.26380985,  0.12580502,  0.92564306,  1.17774366,  1.00949874],\n",
       "       [ 0.42790412,  0.80177226,  0.92564306,  1.44068178,  1.08945904],\n",
       "       [-0.1691714 , -1.00080706, -0.15387928, -0.268416  , -0.1899057 ],\n",
       "       [-0.76624692, -0.77548465,  0.07338858,  0.25746024,  0.12993548],\n",
       "       [ 1.02497964,  0.57644985,  1.09609396,  1.7036199 ,  1.28935978],\n",
       "       [ 0.06965881,  0.35112743,  0.58474127,  0.78333648,  0.64967741],\n",
       "       [-1.48273754,  0.80177226, -1.34703555, -1.18869941, -1.30934985],\n",
       "       [ 1.38322496,  0.35112743,  0.5279243 ,  0.25746024,  0.44977667],\n",
       "       [-0.52741671,  1.92838434, -1.40385252, -1.05723035, -1.30934985],\n",
       "       [ 1.86088537, -0.55016223,  1.32336182,  0.91480554,  1.20939948],\n",
       "       [-1.12449223, -0.0995174 , -1.34703555, -1.32016847, -1.34933   ],\n",
       "       [-0.88566202,  1.02709468, -1.34703555, -1.18869941, -1.30934985],\n",
       "       [-0.04975629, -0.77548465,  0.75519216,  0.91480554,  0.809598  ],\n",
       "       [-1.00507713,  0.35112743, -1.46066949, -1.32016847, -1.4292903 ],\n",
       "       [-1.60215265, -1.67677431, -1.40385252, -1.18869941, -1.34933   ],\n",
       "       [-1.24390734, -0.0995174 , -1.34703555, -1.45163753, -1.38931015],\n",
       "       [-1.24390734, -0.0995174 , -1.34703555, -1.18869941, -1.30934985],\n",
       "       [-0.2885865 , -0.32483982, -0.09706232,  0.12599118, -0.02998511],\n",
       "       [ 0.54731923,  0.57644985,  1.26654485,  1.7036199 ,  1.40930022],\n",
       "       [-0.1691714 , -0.55016223,  0.41429037,  0.12599118,  0.32983622],\n",
       "       [-0.88566202,  1.02709468, -1.34703555, -1.32016847, -1.34933   ],\n",
       "       [ 0.06965881, -0.0995174 ,  0.75519216,  0.78333648,  0.76961785],\n",
       "       [-0.1691714 , -0.55016223,  0.18702251,  0.12599118,  0.16991563],\n",
       "       [ 0.54731923,  0.80177226,  1.03927699,  1.57215084,  1.20939948],\n",
       "       [-1.48273754,  0.35112743, -1.34703555, -1.32016847, -1.34933   ],\n",
       "       [-0.04975629, -0.77548465,  0.75519216,  0.91480554,  0.809598  ],\n",
       "       [-0.40800161,  1.02709468, -1.40385252, -1.32016847, -1.38931015],\n",
       "       [-0.40800161, -1.67677431,  0.13020555,  0.12599118,  0.12993548],\n",
       "       [-0.1691714 , -1.22612948,  0.6983752 ,  1.0462746 ,  0.809598  ],\n",
       "       [-1.24390734,  0.80177226, -1.06295073, -1.32016847, -1.14942926],\n",
       "       [ 0.18907392, -0.77548465,  0.75519216,  0.52039836,  0.68965756],\n",
       "       [-0.40800161, -1.00080706,  0.35747341, -0.00547788,  0.24987593],\n",
       "       [ 2.21913069, -0.55016223,  1.66426361,  1.0462746 ,  1.48926052],\n",
       "       [-0.2885865 , -0.0995174 ,  0.41429037,  0.3889293 ,  0.40979652],\n",
       "       [ 0.78614944, -0.55016223,  0.47110734,  0.3889293 ,  0.44977667],\n",
       "       [ 0.66673433,  0.35112743,  0.8688261 ,  1.44068178,  1.04947889],\n",
       "       [-0.88566202,  0.80177226, -1.29021859, -1.32016847, -1.30934985],\n",
       "       [-0.88566202,  0.57644985, -1.17658466, -0.92576129, -1.10944911],\n",
       "       [-1.00507713,  1.25241709, -1.34703555, -1.32016847, -1.34933   ],\n",
       "       [ 0.18907392, -1.90209672,  0.6983752 ,  0.3889293 ,  0.60969726],\n",
       "       [-0.04975629, -0.77548465,  0.07338858, -0.00547788,  0.04997519],\n",
       "       [ 1.62205517, -0.0995174 ,  1.15291092,  0.52039836,  0.96951859],\n",
       "       [-0.40800161, -1.45145189,  0.01657161, -0.13694694, -0.02998511],\n",
       "       [ 1.02497964, -0.0995174 ,  0.81200913,  1.44068178,  1.00949874],\n",
       "       [ 0.54731923, -0.77548465,  0.64155823,  0.78333648,  0.68965756],\n",
       "       [ 0.18907392,  0.80177226,  0.41429037,  0.52039836,  0.44977667],\n",
       "       [-1.12449223,  0.12580502, -1.29021859, -1.45163753, -1.34933   ],\n",
       "       [-0.04975629, -0.55016223,  0.75519216,  1.57215084,  1.00949874],\n",
       "       [ 0.42790412, -1.90209672,  0.41429037,  0.3889293 ,  0.40979652],\n",
       "       [-1.00507713,  1.02709468, -1.23340162, -0.79429223, -1.10944911],\n",
       "       [ 1.26380985,  0.35112743,  1.09609396,  1.44068178,  1.20939948],\n",
       "       [-0.76624692,  2.37902917, -1.29021859, -1.45163753, -1.34933   ],\n",
       "       [ 1.62205517,  1.25241709,  1.32336182,  1.7036199 ,  1.44928037],\n",
       "       [-0.88566202, -1.22612948, -0.43796411, -0.13694694, -0.3498263 ],\n",
       "       [ 1.02497964,  0.12580502,  0.5279243 ,  0.3889293 ,  0.48975681],\n",
       "       [-1.24390734,  0.12580502, -1.23340162, -1.32016847, -1.2693697 ],\n",
       "       [ 0.42790412, -0.32483982,  0.30065644,  0.12599118,  0.24987593],\n",
       "       [ 0.78614944,  0.35112743,  0.75519216,  1.0462746 ,  0.84957815],\n",
       "       [-0.88566202,  1.70306192, -1.06295073, -1.05723035, -1.06946896],\n",
       "       [-1.84098286, -0.0995174 , -1.51748645, -1.45163753, -1.50925059],\n",
       "       [ 1.02497964,  0.57644985,  1.09609396,  1.17774366,  1.12943918],\n",
       "       [ 2.21913069, -1.00080706,  1.77789754,  1.44068178,  1.68916126],\n",
       "       [ 1.14439475, -0.0995174 ,  0.98246003,  1.17774366,  1.04947889],\n",
       "       [ 0.54731923, -1.67677431,  0.35747341,  0.12599118,  0.28985607],\n",
       "       [ 0.42790412, -0.55016223,  0.58474127,  0.78333648,  0.64967741],\n",
       "       [-0.52741671,  1.92838434, -1.17658466, -1.05723035, -1.14942926],\n",
       "       [ 1.14439475,  0.35112743,  1.20972789,  1.44068178,  1.28935978],\n",
       "       [-0.1691714 , -0.32483982,  0.24383948,  0.12599118,  0.20989578],\n",
       "       [ 1.62205517,  0.35112743,  1.26654485,  0.78333648,  1.12943918],\n",
       "       [ 1.50264006, -0.0995174 ,  1.20972789,  1.17774366,  1.20939948],\n",
       "       [-0.64683181,  1.47773951, -1.29021859, -1.32016847, -1.30934985],\n",
       "       [ 0.66673433, -0.32483982,  0.30065644,  0.12599118,  0.24987593],\n",
       "       [ 0.30848902, -0.55016223,  0.5279243 , -0.00547788,  0.36981637],\n",
       "       [-0.1691714 , -0.0995174 ,  0.24383948, -0.00547788,  0.16991563],\n",
       "       [-0.2885865 , -0.0995174 ,  0.18702251,  0.12599118,  0.16991563],\n",
       "       [ 1.02497964,  0.12580502,  0.35747341,  0.25746024,  0.32983622],\n",
       "       [-0.76624692,  1.02709468, -1.29021859, -1.32016847, -1.30934985],\n",
       "       [ 0.66673433, -0.55016223,  1.03927699,  1.17774366,  1.08945904],\n",
       "       [ 0.18907392, -1.90209672,  0.13020555, -0.268416  ,  0.00999504],\n",
       "       [ 0.06965881, -0.0995174 ,  0.24383948,  0.3889293 ,  0.28985607],\n",
       "       [-1.24390734,  0.80177226, -1.23340162, -1.32016847, -1.2693697 ],\n",
       "       [-1.12449223,  0.12580502, -1.29021859, -1.45163753, -1.34933   ],\n",
       "       [-1.36332244,  0.35112743, -1.40385252, -1.32016847, -1.38931015],\n",
       "       [-0.40800161,  2.60435158, -1.34703555, -1.32016847, -1.34933   ],\n",
       "       [ 1.26380985,  0.12580502,  0.64155823,  0.3889293 ,  0.56971711],\n",
       "       [-1.48273754,  0.12580502, -1.29021859, -1.32016847, -1.30934985]])"
      ]
     },
     "execution_count": 156,
     "metadata": {},
     "output_type": "execute_result"
    }
   ],
   "source": [
    "iris_num_tr"
   ]
  },
  {
   "cell_type": "markdown",
   "metadata": {},
   "source": [
    "## Treinando e calculando no conjunto de treinamento"
   ]
  },
  {
   "cell_type": "markdown",
   "metadata": {},
   "source": [
    "### Com árvore"
   ]
  },
  {
   "cell_type": "code",
   "execution_count": 157,
   "metadata": {
    "collapsed": true
   },
   "outputs": [],
   "source": [
    "from sklearn.tree import DecisionTreeRegressor"
   ]
  },
  {
   "cell_type": "code",
   "execution_count": 158,
   "metadata": {},
   "outputs": [
    {
     "data": {
      "text/plain": [
       "DecisionTreeRegressor(criterion='mse', max_depth=None, max_features=None,\n",
       "           max_leaf_nodes=None, min_impurity_decrease=0.0,\n",
       "           min_impurity_split=None, min_samples_leaf=1,\n",
       "           min_samples_split=2, min_weight_fraction_leaf=0.0,\n",
       "           presort=False, random_state=None, splitter='best')"
      ]
     },
     "execution_count": 158,
     "metadata": {},
     "output_type": "execute_result"
    }
   ],
   "source": [
    "tree_reg = DecisionTreeRegressor()\n",
    "tree_reg.fit(iris_num_tr, iris_labels)"
   ]
  },
  {
   "cell_type": "code",
   "execution_count": 169,
   "metadata": {},
   "outputs": [
    {
     "data": {
      "text/plain": [
       "array([ 0.,  2.,  1.,  0.,  1.,  2.,  1.,  2.,  2.,  2.,  2.,  1.,  1.,\n",
       "        1.,  1.,  0.,  0.,  2.,  2.,  0.,  1.,  0.,  2.,  0.,  1.,  2.,\n",
       "        2.,  0.,  2.,  0.,  0.,  1.,  1.,  0.,  2.,  2.,  1.,  1.,  2.,\n",
       "        1.,  0.,  1.,  0.,  2.,  0.,  0.,  2.,  0.,  0.,  0.,  0.,  1.,\n",
       "        2.,  1.,  0.,  2.,  1.,  2.,  0.,  2.,  0.,  1.,  2.,  0.,  1.,\n",
       "        1.,  2.,  1.,  1.,  2.,  0.,  0.,  0.,  2.,  1.,  2.,  1.,  2.,\n",
       "        2.,  1.,  0.,  2.,  1.,  0.,  2.,  0.,  2.,  1.,  1.,  0.,  1.,\n",
       "        2.,  0.,  0.,  2.,  2.,  2.,  1.,  2.,  0.,  2.,  1.,  2.,  2.,\n",
       "        0.,  1.,  1.,  1.,  1.,  1.,  0.,  2.,  1.,  1.,  0.,  0.,  0.,\n",
       "        0.,  1.,  0.])"
      ]
     },
     "execution_count": 169,
     "metadata": {},
     "output_type": "execute_result"
    }
   ],
   "source": [
    "iris_predictions = tree_reg.predict(iris_num_tr)\n"
   ]
  },
  {
   "cell_type": "code",
   "execution_count": 172,
   "metadata": {},
   "outputs": [
    {
     "data": {
      "text/plain": [
       "0.0"
      ]
     },
     "execution_count": 172,
     "metadata": {},
     "output_type": "execute_result"
    }
   ],
   "source": [
    "np.sum(iris_labels - iris_predictions)/len(iris_predictions)"
   ]
  },
  {
   "cell_type": "markdown",
   "metadata": {},
   "source": [
    "### Com cross validation"
   ]
  },
  {
   "cell_type": "code",
   "execution_count": 183,
   "metadata": {
    "collapsed": true
   },
   "outputs": [],
   "source": [
    "from sklearn.model_selection import cross_val_score"
   ]
  },
  {
   "cell_type": "code",
   "execution_count": 202,
   "metadata": {
    "collapsed": true
   },
   "outputs": [],
   "source": [
    "scores = cross_val_score(tree_reg, iris_num_tr, iris_labels,\n",
    "                         scoring=\"accuracy\", cv=10)\n"
   ]
  },
  {
   "cell_type": "code",
   "execution_count": 203,
   "metadata": {
    "collapsed": true
   },
   "outputs": [],
   "source": [
    "def display_scores(scores):\n",
    "    print(\"Scores:\", scores)\n",
    "    print(\"Mean:\", scores.mean())\n",
    "    print(\"Standard deviation:\", scores.std())"
   ]
  },
  {
   "cell_type": "code",
   "execution_count": 210,
   "metadata": {},
   "outputs": [
    {
     "name": "stdout",
     "output_type": "stream",
     "text": [
      "Scores: [ 0.91666667  1.          1.          0.91666667  1.          0.91666667\n",
      "  0.91666667  1.          0.91666667  1.        ]\n",
      "Mean: 0.958333333333\n",
      "Standard deviation: 0.0416666666667\n"
     ]
    }
   ],
   "source": [
    "display_scores(scores)"
   ]
  },
  {
   "cell_type": "markdown",
   "metadata": {},
   "source": [
    "### Com random forest"
   ]
  },
  {
   "cell_type": "code",
   "execution_count": 220,
   "metadata": {
    "collapsed": true
   },
   "outputs": [],
   "source": [
    "from sklearn.ensemble import RandomForestClassifier"
   ]
  },
  {
   "cell_type": "code",
   "execution_count": 221,
   "metadata": {
    "collapsed": true
   },
   "outputs": [],
   "source": [
    "forest_clas = RandomForestClassifier()"
   ]
  },
  {
   "cell_type": "code",
   "execution_count": 222,
   "metadata": {},
   "outputs": [
    {
     "data": {
      "text/plain": [
       "RandomForestClassifier(bootstrap=True, class_weight=None, criterion='gini',\n",
       "            max_depth=None, max_features='auto', max_leaf_nodes=None,\n",
       "            min_impurity_decrease=0.0, min_impurity_split=None,\n",
       "            min_samples_leaf=1, min_samples_split=2,\n",
       "            min_weight_fraction_leaf=0.0, n_estimators=10, n_jobs=1,\n",
       "            oob_score=False, random_state=None, verbose=0,\n",
       "            warm_start=False)"
      ]
     },
     "execution_count": 222,
     "metadata": {},
     "output_type": "execute_result"
    }
   ],
   "source": [
    "forest_clas.fit(iris_num_tr, iris_labels)"
   ]
  },
  {
   "cell_type": "code",
   "execution_count": 224,
   "metadata": {
    "collapsed": true
   },
   "outputs": [],
   "source": [
    "iris_predictions = forest_clas.predict(iris_num_tr)"
   ]
  },
  {
   "cell_type": "code",
   "execution_count": 225,
   "metadata": {},
   "outputs": [
    {
     "data": {
      "text/plain": [
       "0.0"
      ]
     },
     "execution_count": 225,
     "metadata": {},
     "output_type": "execute_result"
    }
   ],
   "source": [
    "np.sum(iris_labels - iris_predictions)/len(iris_predictions)"
   ]
  },
  {
   "cell_type": "markdown",
   "metadata": {},
   "source": [
    "### Com random forest e cross validation"
   ]
  },
  {
   "cell_type": "code",
   "execution_count": 232,
   "metadata": {
    "collapsed": true
   },
   "outputs": [],
   "source": [
    "scores = cross_val_score(forest_clas, iris_num_tr, iris_labels,\n",
    "                         scoring=\"accuracy\", cv=10)"
   ]
  },
  {
   "cell_type": "code",
   "execution_count": 233,
   "metadata": {},
   "outputs": [
    {
     "name": "stdout",
     "output_type": "stream",
     "text": [
      "Scores: [ 0.83333333  1.          1.          0.91666667  0.91666667  1.\n",
      "  0.91666667  1.          1.          1.        ]\n",
      "Mean: 0.958333333333\n",
      "Standard deviation: 0.0559016994375\n"
     ]
    }
   ],
   "source": [
    "display_scores(scores)"
   ]
  },
  {
   "cell_type": "markdown",
   "metadata": {},
   "source": [
    "## Grid Search"
   ]
  },
  {
   "cell_type": "code",
   "execution_count": 234,
   "metadata": {
    "collapsed": true
   },
   "outputs": [],
   "source": [
    "from sklearn.model_selection import GridSearchCV"
   ]
  },
  {
   "cell_type": "code",
   "execution_count": 237,
   "metadata": {},
   "outputs": [
    {
     "data": {
      "text/plain": [
       "GridSearchCV(cv=5, error_score='raise',\n",
       "       estimator=RandomForestClassifier(bootstrap=True, class_weight=None, criterion='gini',\n",
       "            max_depth=None, max_features='auto', max_leaf_nodes=None,\n",
       "            min_impurity_decrease=0.0, min_impurity_split=None,\n",
       "            min_samples_leaf=1, min_samples_split=2,\n",
       "            min_weight_fraction_leaf=0.0, n_estimators=10, n_jobs=1,\n",
       "            oob_score=False, random_state=None, verbose=0,\n",
       "            warm_start=False),\n",
       "       fit_params=None, iid=True, n_jobs=1,\n",
       "       param_grid=[{'n_estimators': [3, 10, 30], 'max_features': [2, 3, 4, 5]}, {'bootstrap': [False], 'n_estimators': [3, 10], 'max_features': [2, 3, 4, 5]}],\n",
       "       pre_dispatch='2*n_jobs', refit=True, return_train_score='warn',\n",
       "       scoring='accuracy', verbose=0)"
      ]
     },
     "execution_count": 237,
     "metadata": {},
     "output_type": "execute_result"
    }
   ],
   "source": [
    "param_grid = [\n",
    "    {'n_estimators': [3, 10, 30], 'max_features': [2, 3, 4, 5]},\n",
    "    {'bootstrap': [False], 'n_estimators': [3, 10], 'max_features': [2, 3, 4, 5]},\n",
    "]\n",
    "\n",
    "forest_clas = RandomForestClassifier()\n",
    "grid_search = GridSearchCV(forest_clas, param_grid, cv=5,\n",
    "                           scoring='accuracy')\n",
    "grid_search.fit(iris_num_tr, iris_labels)"
   ]
  },
  {
   "cell_type": "code",
   "execution_count": 238,
   "metadata": {},
   "outputs": [
    {
     "data": {
      "text/plain": [
       "{'bootstrap': False, 'max_features': 2, 'n_estimators': 3}"
      ]
     },
     "execution_count": 238,
     "metadata": {},
     "output_type": "execute_result"
    }
   ],
   "source": [
    "grid_search.best_params_"
   ]
  },
  {
   "cell_type": "code",
   "execution_count": 239,
   "metadata": {},
   "outputs": [
    {
     "data": {
      "text/plain": [
       "RandomForestClassifier(bootstrap=False, class_weight=None, criterion='gini',\n",
       "            max_depth=None, max_features=2, max_leaf_nodes=None,\n",
       "            min_impurity_decrease=0.0, min_impurity_split=None,\n",
       "            min_samples_leaf=1, min_samples_split=2,\n",
       "            min_weight_fraction_leaf=0.0, n_estimators=3, n_jobs=1,\n",
       "            oob_score=False, random_state=None, verbose=0,\n",
       "            warm_start=False)"
      ]
     },
     "execution_count": 239,
     "metadata": {},
     "output_type": "execute_result"
    }
   ],
   "source": [
    "grid_search.best_estimator_"
   ]
  },
  {
   "cell_type": "code",
   "execution_count": 241,
   "metadata": {},
   "outputs": [
    {
     "name": "stdout",
     "output_type": "stream",
     "text": [
      "0.958333333333 {'max_features': 2, 'n_estimators': 3}\n",
      "0.958333333333 {'max_features': 2, 'n_estimators': 10}\n",
      "0.958333333333 {'max_features': 2, 'n_estimators': 30}\n",
      "0.941666666667 {'max_features': 3, 'n_estimators': 3}\n",
      "0.95 {'max_features': 3, 'n_estimators': 10}\n",
      "0.958333333333 {'max_features': 3, 'n_estimators': 30}\n",
      "0.95 {'max_features': 4, 'n_estimators': 3}\n",
      "0.95 {'max_features': 4, 'n_estimators': 10}\n",
      "0.95 {'max_features': 4, 'n_estimators': 30}\n",
      "0.941666666667 {'max_features': 5, 'n_estimators': 3}\n",
      "0.95 {'max_features': 5, 'n_estimators': 10}\n",
      "0.95 {'max_features': 5, 'n_estimators': 30}\n",
      "0.966666666667 {'bootstrap': False, 'max_features': 2, 'n_estimators': 3}\n",
      "0.95 {'bootstrap': False, 'max_features': 2, 'n_estimators': 10}\n",
      "0.95 {'bootstrap': False, 'max_features': 3, 'n_estimators': 3}\n",
      "0.95 {'bootstrap': False, 'max_features': 3, 'n_estimators': 10}\n",
      "0.95 {'bootstrap': False, 'max_features': 4, 'n_estimators': 3}\n",
      "0.95 {'bootstrap': False, 'max_features': 4, 'n_estimators': 10}\n",
      "0.958333333333 {'bootstrap': False, 'max_features': 5, 'n_estimators': 3}\n",
      "0.95 {'bootstrap': False, 'max_features': 5, 'n_estimators': 10}\n"
     ]
    }
   ],
   "source": [
    "cvres = grid_search.cv_results_\n",
    "for mean_score, params in zip(cvres[\"mean_test_score\"], cvres[\"params\"]):\n",
    "    print(mean_score, params)"
   ]
  },
  {
   "cell_type": "code",
   "execution_count": 242,
   "metadata": {
    "collapsed": true
   },
   "outputs": [],
   "source": [
    "feature_importances = grid_search.best_estimator_.feature_importances_"
   ]
  },
  {
   "cell_type": "code",
   "execution_count": 243,
   "metadata": {},
   "outputs": [
    {
     "data": {
      "text/plain": [
       "array([ 0.13901   ,  0.01388889,  0.23210204,  0.17895299,  0.43604608])"
      ]
     },
     "execution_count": 243,
     "metadata": {},
     "output_type": "execute_result"
    }
   ],
   "source": [
    "feature_importances"
   ]
  },
  {
   "cell_type": "code",
   "execution_count": 258,
   "metadata": {},
   "outputs": [
    {
     "data": {
      "text/html": [
       "<div>\n",
       "<style>\n",
       "    .dataframe thead tr:only-child th {\n",
       "        text-align: right;\n",
       "    }\n",
       "\n",
       "    .dataframe thead th {\n",
       "        text-align: left;\n",
       "    }\n",
       "\n",
       "    .dataframe tbody tr th {\n",
       "        vertical-align: top;\n",
       "    }\n",
       "</style>\n",
       "<table border=\"1\" class=\"dataframe\">\n",
       "  <thead>\n",
       "    <tr style=\"text-align: right;\">\n",
       "      <th></th>\n",
       "      <th>sepal length in cm</th>\n",
       "      <th>sepal width in cm</th>\n",
       "      <th>petal length in cm</th>\n",
       "      <th>petal width in cm</th>\n",
       "    </tr>\n",
       "  </thead>\n",
       "  <tbody>\n",
       "    <tr>\n",
       "      <th>8</th>\n",
       "      <td>4.4</td>\n",
       "      <td>2.9</td>\n",
       "      <td>1.4</td>\n",
       "      <td>0.2</td>\n",
       "    </tr>\n",
       "    <tr>\n",
       "      <th>106</th>\n",
       "      <td>4.9</td>\n",
       "      <td>2.5</td>\n",
       "      <td>4.5</td>\n",
       "      <td>1.7</td>\n",
       "    </tr>\n",
       "    <tr>\n",
       "      <th>76</th>\n",
       "      <td>6.8</td>\n",
       "      <td>2.8</td>\n",
       "      <td>4.8</td>\n",
       "      <td>1.4</td>\n",
       "    </tr>\n",
       "    <tr>\n",
       "      <th>9</th>\n",
       "      <td>4.9</td>\n",
       "      <td>3.1</td>\n",
       "      <td>1.5</td>\n",
       "      <td>0.1</td>\n",
       "    </tr>\n",
       "    <tr>\n",
       "      <th>89</th>\n",
       "      <td>5.5</td>\n",
       "      <td>2.5</td>\n",
       "      <td>4.0</td>\n",
       "      <td>1.3</td>\n",
       "    </tr>\n",
       "  </tbody>\n",
       "</table>\n",
       "</div>"
      ],
      "text/plain": [
       "     sepal length in cm  sepal width in cm  petal length in cm  \\\n",
       "8                   4.4                2.9                 1.4   \n",
       "106                 4.9                2.5                 4.5   \n",
       "76                  6.8                2.8                 4.8   \n",
       "9                   4.9                3.1                 1.5   \n",
       "89                  5.5                2.5                 4.0   \n",
       "\n",
       "     petal width in cm  \n",
       "8                  0.2  \n",
       "106                1.7  \n",
       "76                 1.4  \n",
       "9                  0.1  \n",
       "89                 1.3  "
      ]
     },
     "execution_count": 258,
     "metadata": {},
     "output_type": "execute_result"
    }
   ],
   "source": [
    "iris.head()"
   ]
  },
  {
   "cell_type": "code",
   "execution_count": 259,
   "metadata": {
    "collapsed": true
   },
   "outputs": [],
   "source": [
    "final_model = grid_search.best_estimator_"
   ]
  },
  {
   "cell_type": "code",
   "execution_count": 260,
   "metadata": {
    "collapsed": true
   },
   "outputs": [],
   "source": [
    "strat_test_set['class'] = strat_test_set['class'].apply(specie_color)"
   ]
  },
  {
   "cell_type": "code",
   "execution_count": 262,
   "metadata": {
    "collapsed": true
   },
   "outputs": [],
   "source": [
    "X_test = strat_test_set.drop(\"class\", axis=1)\n",
    "y_test = strat_test_set[\"class\"].copy()\n",
    "X_test_prepared = num_pipeline.transform(X_test)"
   ]
  },
  {
   "cell_type": "code",
   "execution_count": 264,
   "metadata": {
    "collapsed": true
   },
   "outputs": [],
   "source": [
    "from sklearn.metrics import precision_score"
   ]
  },
  {
   "cell_type": "code",
   "execution_count": 279,
   "metadata": {
    "collapsed": true
   },
   "outputs": [],
   "source": [
    "final_predictions = final_model.predict(X_test_prepared)\n",
    "final_mse = precision_score(y_test, final_predictions,average='micro')"
   ]
  },
  {
   "cell_type": "code",
   "execution_count": 280,
   "metadata": {},
   "outputs": [
    {
     "data": {
      "text/plain": [
       "0.90000000000000002"
      ]
     },
     "execution_count": 280,
     "metadata": {},
     "output_type": "execute_result"
    }
   ],
   "source": [
    "final_mse"
   ]
  },
  {
   "cell_type": "code",
   "execution_count": null,
   "metadata": {
    "collapsed": true
   },
   "outputs": [],
   "source": []
  }
 ],
 "metadata": {
  "kernelspec": {
   "display_name": "Python 3",
   "language": "python",
   "name": "python3"
  },
  "language_info": {
   "codemirror_mode": {
    "name": "ipython",
    "version": 3
   },
   "file_extension": ".py",
   "mimetype": "text/x-python",
   "name": "python",
   "nbconvert_exporter": "python",
   "pygments_lexer": "ipython3",
   "version": "3.6.3"
  }
 },
 "nbformat": 4,
 "nbformat_minor": 2
}
